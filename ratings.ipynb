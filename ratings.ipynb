{
 "cells": [
  {
   "cell_type": "code",
   "execution_count": 2,
   "metadata": {},
   "outputs": [],
   "source": [
    "import numpy as np\n",
    "import pandas as pd\n",
    "pd.plotting.register_matplotlib_converters()\n",
    "import matplotlib.pyplot as plt\n",
    "import seaborn as sns\n",
    "%matplotlib inline\n",
    "sns.set(color_codes=True)"
   ]
  },
  {
   "cell_type": "code",
   "execution_count": 3,
   "metadata": {},
   "outputs": [],
   "source": [
    "cpu = pd.read_csv(\"data/cpu_rating.csv\", index_col=\"id\")\n",
    "gpu = pd.read_csv(\"data/gpu_rating.csv\", index_col=\"id\")"
   ]
  },
  {
   "cell_type": "code",
   "execution_count": 4,
   "metadata": {},
   "outputs": [
    {
     "data": {
      "text/html": [
       "<div>\n",
       "<style scoped>\n",
       "    .dataframe tbody tr th:only-of-type {\n",
       "        vertical-align: middle;\n",
       "    }\n",
       "\n",
       "    .dataframe tbody tr th {\n",
       "        vertical-align: top;\n",
       "    }\n",
       "\n",
       "    .dataframe thead th {\n",
       "        text-align: right;\n",
       "    }\n",
       "</style>\n",
       "<table border=\"1\" class=\"dataframe\">\n",
       "  <thead>\n",
       "    <tr style=\"text-align: right;\">\n",
       "      <th></th>\n",
       "      <th>cpu</th>\n",
       "      <th>rate</th>\n",
       "      <th>url</th>\n",
       "    </tr>\n",
       "    <tr>\n",
       "      <th>id</th>\n",
       "      <th></th>\n",
       "      <th></th>\n",
       "      <th></th>\n",
       "    </tr>\n",
       "  </thead>\n",
       "  <tbody>\n",
       "    <tr>\n",
       "      <th>1</th>\n",
       "      <td>3200u</td>\n",
       "      <td>68</td>\n",
       "      <td>https://versus.com/ru/amd-ryzen-3-3200u</td>\n",
       "    </tr>\n",
       "    <tr>\n",
       "      <th>2</th>\n",
       "      <td>7100</td>\n",
       "      <td>72</td>\n",
       "      <td>https://versus.com/ru/intel-core-i3-7100</td>\n",
       "    </tr>\n",
       "    <tr>\n",
       "      <th>3</th>\n",
       "      <td>7500</td>\n",
       "      <td>72</td>\n",
       "      <td>https://versus.com/ru/intel-core-i5-7500</td>\n",
       "    </tr>\n",
       "    <tr>\n",
       "      <th>4</th>\n",
       "      <td>8130u</td>\n",
       "      <td>59</td>\n",
       "      <td>https://versus.com/ru/intel-core-i3-8130u</td>\n",
       "    </tr>\n",
       "    <tr>\n",
       "      <th>5</th>\n",
       "      <td>8250u</td>\n",
       "      <td>60</td>\n",
       "      <td>https://versus.com/ru/intel-core-i5-8250u</td>\n",
       "    </tr>\n",
       "    <tr>\n",
       "      <th>...</th>\n",
       "      <td>...</td>\n",
       "      <td>...</td>\n",
       "      <td>...</td>\n",
       "    </tr>\n",
       "    <tr>\n",
       "      <th>199</th>\n",
       "      <td>intel сore i7 9700f</td>\n",
       "      <td>60</td>\n",
       "      <td>https://versus.com/ru/intel-core-i7-9700f</td>\n",
       "    </tr>\n",
       "    <tr>\n",
       "      <th>200</th>\n",
       "      <td>intel сore i7-9700f</td>\n",
       "      <td>60</td>\n",
       "      <td>https://versus.com/ru/intel-core-i7-9700f</td>\n",
       "    </tr>\n",
       "    <tr>\n",
       "      <th>201</th>\n",
       "      <td>intet core i7 7700</td>\n",
       "      <td>76</td>\n",
       "      <td>https://versus.com/ru/intel-core-i7-7700</td>\n",
       "    </tr>\n",
       "    <tr>\n",
       "      <th>202</th>\n",
       "      <td>ryzen 5 2600</td>\n",
       "      <td>49</td>\n",
       "      <td>https://versus.com/ru/amd-ryzen-5-2600</td>\n",
       "    </tr>\n",
       "    <tr>\n",
       "      <th>203</th>\n",
       "      <td>ryzen 5 pro 2400g 3.6 ггц</td>\n",
       "      <td>57</td>\n",
       "      <td>https://versus.com/ru/amd-ryzen-5-2400g</td>\n",
       "    </tr>\n",
       "  </tbody>\n",
       "</table>\n",
       "<p>188 rows × 3 columns</p>\n",
       "</div>"
      ],
      "text/plain": [
       "                           cpu  rate  \\\n",
       "id                                     \n",
       "1                        3200u    68   \n",
       "2                         7100    72   \n",
       "3                         7500    72   \n",
       "4                        8130u    59   \n",
       "5                        8250u    60   \n",
       "..                         ...   ...   \n",
       "199        intel сore i7 9700f    60   \n",
       "200        intel сore i7-9700f    60   \n",
       "201         intet core i7 7700    76   \n",
       "202               ryzen 5 2600    49   \n",
       "203  ryzen 5 pro 2400g 3.6 ггц    57   \n",
       "\n",
       "                                           url  \n",
       "id                                              \n",
       "1      https://versus.com/ru/amd-ryzen-3-3200u  \n",
       "2     https://versus.com/ru/intel-core-i3-7100  \n",
       "3     https://versus.com/ru/intel-core-i5-7500  \n",
       "4    https://versus.com/ru/intel-core-i3-8130u  \n",
       "5    https://versus.com/ru/intel-core-i5-8250u  \n",
       "..                                         ...  \n",
       "199  https://versus.com/ru/intel-core-i7-9700f  \n",
       "200  https://versus.com/ru/intel-core-i7-9700f  \n",
       "201   https://versus.com/ru/intel-core-i7-7700  \n",
       "202     https://versus.com/ru/amd-ryzen-5-2600  \n",
       "203    https://versus.com/ru/amd-ryzen-5-2400g  \n",
       "\n",
       "[188 rows x 3 columns]"
      ]
     },
     "execution_count": 4,
     "metadata": {},
     "output_type": "execute_result"
    }
   ],
   "source": [
    "cpu"
   ]
  },
  {
   "cell_type": "code",
   "execution_count": 5,
   "metadata": {},
   "outputs": [
    {
     "data": {
      "text/html": [
       "<div>\n",
       "<style scoped>\n",
       "    .dataframe tbody tr th:only-of-type {\n",
       "        vertical-align: middle;\n",
       "    }\n",
       "\n",
       "    .dataframe tbody tr th {\n",
       "        vertical-align: top;\n",
       "    }\n",
       "\n",
       "    .dataframe thead th {\n",
       "        text-align: right;\n",
       "    }\n",
       "</style>\n",
       "<table border=\"1\" class=\"dataframe\">\n",
       "  <thead>\n",
       "    <tr style=\"text-align: right;\">\n",
       "      <th></th>\n",
       "      <th>gpu</th>\n",
       "      <th>rate</th>\n",
       "      <th>url</th>\n",
       "    </tr>\n",
       "    <tr>\n",
       "      <th>id</th>\n",
       "      <th></th>\n",
       "      <th></th>\n",
       "      <th></th>\n",
       "    </tr>\n",
       "  </thead>\n",
       "  <tbody>\n",
       "    <tr>\n",
       "      <th>1</th>\n",
       "      <td>amd radeon 460 + intel hd graphics 630</td>\n",
       "      <td>55.0</td>\n",
       "      <td>https://versus.com/ru/amd-radeon-rx-460</td>\n",
       "    </tr>\n",
       "    <tr>\n",
       "      <th>2</th>\n",
       "      <td>amd radeon 520</td>\n",
       "      <td>37.0</td>\n",
       "      <td>https://versus.com/ru/amd-radeon-520</td>\n",
       "    </tr>\n",
       "    <tr>\n",
       "      <th>3</th>\n",
       "      <td>amd radeon 530</td>\n",
       "      <td>35.0</td>\n",
       "      <td>https://versus.com/ru/amd-radeon-530</td>\n",
       "    </tr>\n",
       "    <tr>\n",
       "      <th>4</th>\n",
       "      <td>amd radeon 530 + intel uhd graphics 620</td>\n",
       "      <td>35.0</td>\n",
       "      <td>https://versus.com/ru/amd-radeon-530</td>\n",
       "    </tr>\n",
       "    <tr>\n",
       "      <th>5</th>\n",
       "      <td>amd radeon 530 + intel uhd graphics 630</td>\n",
       "      <td>35.0</td>\n",
       "      <td>https://versus.com/ru/amd-radeon-530</td>\n",
       "    </tr>\n",
       "    <tr>\n",
       "      <th>...</th>\n",
       "      <td>...</td>\n",
       "      <td>...</td>\n",
       "      <td>...</td>\n",
       "    </tr>\n",
       "    <tr>\n",
       "      <th>274</th>\n",
       "      <td>rtx 2070 super 8gb</td>\n",
       "      <td>87.0</td>\n",
       "      <td>https://versus.com/ru/nvidia-geforce-rtx-2070-...</td>\n",
       "    </tr>\n",
       "    <tr>\n",
       "      <th>275</th>\n",
       "      <td>rtx 2080 + intel uhd 630</td>\n",
       "      <td>86.0</td>\n",
       "      <td>https://versus.com/ru/nvidia-geforce-rtx-2080</td>\n",
       "    </tr>\n",
       "    <tr>\n",
       "      <th>276</th>\n",
       "      <td>rtx 2080 super</td>\n",
       "      <td>91.0</td>\n",
       "      <td>https://versus.com/ru/nvidia-geforce-rtx-2080-...</td>\n",
       "    </tr>\n",
       "    <tr>\n",
       "      <th>277</th>\n",
       "      <td>rx 580</td>\n",
       "      <td>70.0</td>\n",
       "      <td>https://versus.com/ru/amd-radeon-rx-580</td>\n",
       "    </tr>\n",
       "    <tr>\n",
       "      <th>278</th>\n",
       "      <td>uhd graphics 630</td>\n",
       "      <td>20.0</td>\n",
       "      <td>NaN</td>\n",
       "    </tr>\n",
       "  </tbody>\n",
       "</table>\n",
       "<p>261 rows × 3 columns</p>\n",
       "</div>"
      ],
      "text/plain": [
       "                                         gpu  rate  \\\n",
       "id                                                   \n",
       "1     amd radeon 460 + intel hd graphics 630  55.0   \n",
       "2                             amd radeon 520  37.0   \n",
       "3                             amd radeon 530  35.0   \n",
       "4    amd radeon 530 + intel uhd graphics 620  35.0   \n",
       "5    amd radeon 530 + intel uhd graphics 630  35.0   \n",
       "..                                       ...   ...   \n",
       "274                       rtx 2070 super 8gb  87.0   \n",
       "275                 rtx 2080 + intel uhd 630  86.0   \n",
       "276                           rtx 2080 super  91.0   \n",
       "277                                   rx 580  70.0   \n",
       "278                         uhd graphics 630  20.0   \n",
       "\n",
       "                                                   url  \n",
       "id                                                      \n",
       "1              https://versus.com/ru/amd-radeon-rx-460  \n",
       "2                 https://versus.com/ru/amd-radeon-520  \n",
       "3                 https://versus.com/ru/amd-radeon-530  \n",
       "4                 https://versus.com/ru/amd-radeon-530  \n",
       "5                 https://versus.com/ru/amd-radeon-530  \n",
       "..                                                 ...  \n",
       "274  https://versus.com/ru/nvidia-geforce-rtx-2070-...  \n",
       "275      https://versus.com/ru/nvidia-geforce-rtx-2080  \n",
       "276  https://versus.com/ru/nvidia-geforce-rtx-2080-...  \n",
       "277            https://versus.com/ru/amd-radeon-rx-580  \n",
       "278                                                NaN  \n",
       "\n",
       "[261 rows x 3 columns]"
      ]
     },
     "execution_count": 5,
     "metadata": {},
     "output_type": "execute_result"
    }
   ],
   "source": [
    "gpu"
   ]
  },
  {
   "cell_type": "code",
   "execution_count": 6,
   "metadata": {},
   "outputs": [
    {
     "data": {
      "text/plain": [
       "62.420212765957444"
      ]
     },
     "execution_count": 6,
     "metadata": {},
     "output_type": "execute_result"
    }
   ],
   "source": [
    "cpu.rate.mean()"
   ]
  },
  {
   "cell_type": "code",
   "execution_count": 7,
   "metadata": {},
   "outputs": [
    {
     "data": {
      "text/plain": [
       "Text(0.5, 1.0, 'CPU Ratings Distribution')"
      ]
     },
     "execution_count": 7,
     "metadata": {},
     "output_type": "execute_result"
    },
    {
     "data": {
      "image/png": "[encoded data removed]",
      "text/plain": [
       "<Figure size 432x288 with 1 Axes>"
      ]
     },
     "metadata": {},
     "output_type": "display_data"
    }
   ],
   "source": [
    "sns.distplot(cpu.rate).set_title(\"CPU Ratings Distribution\")"
   ]
  },
  {
   "cell_type": "code",
   "execution_count": 12,
   "metadata": {},
   "outputs": [
    {
     "data": {
      "text/plain": [
       "48.42030651340996"
      ]
     },
     "execution_count": 12,
     "metadata": {},
     "output_type": "execute_result"
    }
   ],
   "source": [
    "gpu.rate.mean()"
   ]
  },
  {
   "cell_type": "code",
   "execution_count": 8,
   "metadata": {},
   "outputs": [
    {
     "data": {
      "text/plain": [
       "Text(0.5, 1.0, 'GPU Ratings Distribution')"
      ]
     },
     "execution_count": 8,
     "metadata": {},
     "output_type": "execute_result"
    },
    {
     "data": {
      "image/png": "[encoded data removed]",
      "text/plain": [
       "<Figure size 432x288 with 1 Axes>"
      ]
     },
     "metadata": {},
     "output_type": "display_data"
    }
   ],
   "source": [
    "sns.distplot(gpu.rate).set_title(\"GPU Ratings Distribution\")"
   ]
  },
  {
   "cell_type": "code",
   "execution_count": 16,
   "metadata": {},
   "outputs": [
    {
     "data": {
      "text/html": [
       "<div>\n",
       "<style scoped>\n",
       "    .dataframe tbody tr th:only-of-type {\n",
       "        vertical-align: middle;\n",
       "    }\n",
       "\n",
       "    .dataframe tbody tr th {\n",
       "        vertical-align: top;\n",
       "    }\n",
       "\n",
       "    .dataframe thead th {\n",
       "        text-align: right;\n",
       "    }\n",
       "</style>\n",
       "<table border=\"1\" class=\"dataframe\">\n",
       "  <thead>\n",
       "    <tr style=\"text-align: right;\">\n",
       "      <th></th>\n",
       "      <th>cpu</th>\n",
       "      <th>rate</th>\n",
       "      <th>url</th>\n",
       "    </tr>\n",
       "    <tr>\n",
       "      <th>id</th>\n",
       "      <th></th>\n",
       "      <th></th>\n",
       "      <th></th>\n",
       "    </tr>\n",
       "  </thead>\n",
       "  <tbody>\n",
       "    <tr>\n",
       "      <th>110</th>\n",
       "      <td>intel core i7 9750h</td>\n",
       "      <td>93</td>\n",
       "      <td>https://versus.com/ru/intel-core-i7-9750h</td>\n",
       "    </tr>\n",
       "    <tr>\n",
       "      <th>114</th>\n",
       "      <td>intel core i7-9750h</td>\n",
       "      <td>93</td>\n",
       "      <td>https://versus.com/ru/intel-core-i7-9750h</td>\n",
       "    </tr>\n",
       "  </tbody>\n",
       "</table>\n",
       "</div>"
      ],
      "text/plain": [
       "                     cpu  rate                                        url\n",
       "id                                                                       \n",
       "110  intel core i7 9750h    93  https://versus.com/ru/intel-core-i7-9750h\n",
       "114  intel core i7-9750h    93  https://versus.com/ru/intel-core-i7-9750h"
      ]
     },
     "execution_count": 16,
     "metadata": {},
     "output_type": "execute_result"
    }
   ],
   "source": [
    "cpu[cpu.rate == cpu.rate.max()]"
   ]
  },
  {
   "cell_type": "code",
   "execution_count": 17,
   "metadata": {},
   "outputs": [
    {
     "data": {
      "text/html": [
       "<div>\n",
       "<style scoped>\n",
       "    .dataframe tbody tr th:only-of-type {\n",
       "        vertical-align: middle;\n",
       "    }\n",
       "\n",
       "    .dataframe tbody tr th {\n",
       "        vertical-align: top;\n",
       "    }\n",
       "\n",
       "    .dataframe thead th {\n",
       "        text-align: right;\n",
       "    }\n",
       "</style>\n",
       "<table border=\"1\" class=\"dataframe\">\n",
       "  <thead>\n",
       "    <tr style=\"text-align: right;\">\n",
       "      <th></th>\n",
       "      <th>cpu</th>\n",
       "      <th>rate</th>\n",
       "      <th>url</th>\n",
       "    </tr>\n",
       "    <tr>\n",
       "      <th>id</th>\n",
       "      <th></th>\n",
       "      <th></th>\n",
       "      <th></th>\n",
       "    </tr>\n",
       "  </thead>\n",
       "  <tbody>\n",
       "    <tr>\n",
       "      <th>34</th>\n",
       "      <td>celeron n4000</td>\n",
       "      <td>22</td>\n",
       "      <td>https://versus.com/ru/intel-celeron-n4000</td>\n",
       "    </tr>\n",
       "    <tr>\n",
       "      <th>51</th>\n",
       "      <td>intel celeron n4000</td>\n",
       "      <td>22</td>\n",
       "      <td>https://versus.com/ru/intel-celeron-n4000</td>\n",
       "    </tr>\n",
       "    <tr>\n",
       "      <th>123</th>\n",
       "      <td>intel pentium n4000</td>\n",
       "      <td>22</td>\n",
       "      <td>https://versus.com/ru/intel-celeron-n4000</td>\n",
       "    </tr>\n",
       "  </tbody>\n",
       "</table>\n",
       "</div>"
      ],
      "text/plain": [
       "                     cpu  rate                                        url\n",
       "id                                                                       \n",
       "34         celeron n4000    22  https://versus.com/ru/intel-celeron-n4000\n",
       "51   intel celeron n4000    22  https://versus.com/ru/intel-celeron-n4000\n",
       "123  intel pentium n4000    22  https://versus.com/ru/intel-celeron-n4000"
      ]
     },
     "execution_count": 17,
     "metadata": {},
     "output_type": "execute_result"
    }
   ],
   "source": [
    "cpu[cpu.rate == cpu.rate.min()]"
   ]
  },
  {
   "cell_type": "code",
   "execution_count": 9,
   "metadata": {},
   "outputs": [
    {
     "data": {
      "text/html": [
       "<div>\n",
       "<style scoped>\n",
       "    .dataframe tbody tr th:only-of-type {\n",
       "        vertical-align: middle;\n",
       "    }\n",
       "\n",
       "    .dataframe tbody tr th {\n",
       "        vertical-align: top;\n",
       "    }\n",
       "\n",
       "    .dataframe thead th {\n",
       "        text-align: right;\n",
       "    }\n",
       "</style>\n",
       "<table border=\"1\" class=\"dataframe\">\n",
       "  <thead>\n",
       "    <tr style=\"text-align: right;\">\n",
       "      <th></th>\n",
       "      <th>gpu</th>\n",
       "      <th>rate</th>\n",
       "      <th>url</th>\n",
       "    </tr>\n",
       "    <tr>\n",
       "      <th>id</th>\n",
       "      <th></th>\n",
       "      <th></th>\n",
       "      <th></th>\n",
       "    </tr>\n",
       "  </thead>\n",
       "  <tbody>\n",
       "    <tr>\n",
       "      <th>276</th>\n",
       "      <td>rtx 2080 super</td>\n",
       "      <td>91.0</td>\n",
       "      <td>https://versus.com/ru/nvidia-geforce-rtx-2080-...</td>\n",
       "    </tr>\n",
       "  </tbody>\n",
       "</table>\n",
       "</div>"
      ],
      "text/plain": [
       "                gpu  rate                                                url\n",
       "id                                                                          \n",
       "276  rtx 2080 super  91.0  https://versus.com/ru/nvidia-geforce-rtx-2080-..."
      ]
     },
     "execution_count": 9,
     "metadata": {},
     "output_type": "execute_result"
    }
   ],
   "source": [
    "gpu[gpu.rate == gpu.rate.max()]"
   ]
  },
  {
   "cell_type": "code",
   "execution_count": 18,
   "metadata": {},
   "outputs": [
    {
     "data": {
      "text/html": [
       "<div>\n",
       "<style scoped>\n",
       "    .dataframe tbody tr th:only-of-type {\n",
       "        vertical-align: middle;\n",
       "    }\n",
       "\n",
       "    .dataframe tbody tr th {\n",
       "        vertical-align: top;\n",
       "    }\n",
       "\n",
       "    .dataframe thead th {\n",
       "        text-align: right;\n",
       "    }\n",
       "</style>\n",
       "<table border=\"1\" class=\"dataframe\">\n",
       "  <thead>\n",
       "    <tr style=\"text-align: right;\">\n",
       "      <th></th>\n",
       "      <th>gpu</th>\n",
       "      <th>rate</th>\n",
       "      <th>url</th>\n",
       "    </tr>\n",
       "    <tr>\n",
       "      <th>id</th>\n",
       "      <th></th>\n",
       "      <th></th>\n",
       "      <th></th>\n",
       "    </tr>\n",
       "  </thead>\n",
       "  <tbody>\n",
       "    <tr>\n",
       "      <th>47</th>\n",
       "      <td>intel hd graphics 4400</td>\n",
       "      <td>11.0</td>\n",
       "      <td>NaN</td>\n",
       "    </tr>\n",
       "  </tbody>\n",
       "</table>\n",
       "</div>"
      ],
      "text/plain": [
       "                       gpu  rate  url\n",
       "id                                   \n",
       "47  intel hd graphics 4400  11.0  NaN"
      ]
     },
     "execution_count": 18,
     "metadata": {},
     "output_type": "execute_result"
    }
   ],
   "source": [
    "gpu[gpu.rate == gpu.rate.min()]"
   ]
  },
  {
   "cell_type": "code",
   "execution_count": 11,
   "metadata": {},
   "outputs": [],
   "source": [
    "weak_gpus = gpu[gpu.rate <= 40]\n",
    "middle_gpus = gpu[(gpu.rate < 60) & (gpu.rate > 40)]\n",
    "higher_gpus = gpu[gpu.rate >= 60]"
   ]
  },
  {
   "cell_type": "code",
   "execution_count": 13,
   "metadata": {},
   "outputs": [
    {
     "data": {
      "text/plain": [
       "(37.667, 64.333]    117\n",
       "(10.92, 37.667]      73\n",
       "(64.333, 91.0]       71\n",
       "Name: rate, dtype: int64"
      ]
     },
     "execution_count": 13,
     "metadata": {},
     "output_type": "execute_result"
    }
   ],
   "source": [
    "pd.cut(gpu.rate, bins=3).value_counts()"
   ]
  },
  {
   "cell_type": "code",
   "execution_count": null,
   "metadata": {},
   "outputs": [],
   "source": []
  }
 ],
 "metadata": {
  "kernelspec": {
   "display_name": "Python 3",
   "language": "python",
   "name": "python3"
  },
  "language_info": {
   "codemirror_mode": {
    "name": "ipython",
    "version": 3
   },
   "file_extension": ".py",
   "mimetype": "text/x-python",
   "name": "python",
   "nbconvert_exporter": "python",
   "pygments_lexer": "ipython3",
   "version": "3.7.6"
  }
 },
 "nbformat": 4,
 "nbformat_minor": 4
}
