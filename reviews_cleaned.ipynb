{
 "cells": [
  {
   "cell_type": "code",
   "execution_count": 67,
   "metadata": {},
   "outputs": [],
   "source": [
    "import numpy as np\n",
    "import pandas as pd\n",
    "pd.plotting.register_matplotlib_converters()\n",
    "import matplotlib.pyplot as plt\n",
    "import seaborn as sns\n",
    "%matplotlib inline\n",
    "sns.set(color_codes=True)"
   ]
  },
  {
   "cell_type": "code",
   "execution_count": 2,
   "metadata": {},
   "outputs": [],
   "source": [
    "import nltk\n",
    "from collections import Counter"
   ]
  },
  {
   "cell_type": "code",
   "execution_count": 4,
   "metadata": {},
   "outputs": [],
   "source": [
    "df = pd.read_csv(\"../data/reviews_cleaned.csv\", usecols=[1,2,3,4,5,6])\n",
    "df.drop_duplicates(inplace=True)\n",
    "df = df[df.rating.notna()]\n",
    "df.rating = df.rating.astype(int)\n",
    "df.text = df.text.fillna(\"\")\n",
    "df.plus = df.plus.fillna(\"\")\n",
    "df.minus = df.minus.fillna(\"\")"
   ]
  },
  {
   "cell_type": "code",
   "execution_count": 5,
   "metadata": {},
   "outputs": [
    {
     "data": {
      "text/html": [
       "<div>\n",
       "<style scoped>\n",
       "    .dataframe tbody tr th:only-of-type {\n",
       "        vertical-align: middle;\n",
       "    }\n",
       "\n",
       "    .dataframe tbody tr th {\n",
       "        vertical-align: top;\n",
       "    }\n",
       "\n",
       "    .dataframe thead th {\n",
       "        text-align: right;\n",
       "    }\n",
       "</style>\n",
       "<table border=\"1\" class=\"dataframe\">\n",
       "  <thead>\n",
       "    <tr style=\"text-align: right;\">\n",
       "      <th></th>\n",
       "      <th>text</th>\n",
       "      <th>plus</th>\n",
       "      <th>minus</th>\n",
       "      <th>language</th>\n",
       "      <th>rating</th>\n",
       "      <th>category</th>\n",
       "    </tr>\n",
       "  </thead>\n",
       "  <tbody>\n",
       "    <tr>\n",
       "      <th>0</th>\n",
       "      <td></td>\n",
       "      <td>хороший фен свой деньги очень приятный цвет</td>\n",
       "      <td></td>\n",
       "      <td>russian</td>\n",
       "      <td>5</td>\n",
       "      <td>beauty</td>\n",
       "    </tr>\n",
       "    <tr>\n",
       "      <th>1</th>\n",
       "      <td>отличный большой фен</td>\n",
       "      <td>четко</td>\n",
       "      <td>нет негатив</td>\n",
       "      <td>russian</td>\n",
       "      <td>5</td>\n",
       "      <td>beauty</td>\n",
       "    </tr>\n",
       "    <tr>\n",
       "      <th>2</th>\n",
       "      <td></td>\n",
       "      <td>мощный самый главный</td>\n",
       "      <td>тонкий шнур</td>\n",
       "      <td>russian</td>\n",
       "      <td>5</td>\n",
       "      <td>beauty</td>\n",
       "    </tr>\n",
       "    <tr>\n",
       "      <th>3</th>\n",
       "      <td>отличный машинка</td>\n",
       "      <td></td>\n",
       "      <td></td>\n",
       "      <td>russian</td>\n",
       "      <td>5</td>\n",
       "      <td>beauty</td>\n",
       "    </tr>\n",
       "    <tr>\n",
       "      <th>4</th>\n",
       "      <td></td>\n",
       "      <td>фен понравиться пользоваться недолго существен...</td>\n",
       "      <td></td>\n",
       "      <td>russian</td>\n",
       "      <td>4</td>\n",
       "      <td>beauty</td>\n",
       "    </tr>\n",
       "    <tr>\n",
       "      <th>...</th>\n",
       "      <td>...</td>\n",
       "      <td>...</td>\n",
       "      <td>...</td>\n",
       "      <td>...</td>\n",
       "      <td>...</td>\n",
       "      <td>...</td>\n",
       "    </tr>\n",
       "    <tr>\n",
       "      <th>169761</th>\n",
       "      <td></td>\n",
       "      <td>сказать батарея смело держать заряд день</td>\n",
       "      <td></td>\n",
       "      <td>russian</td>\n",
       "      <td>5</td>\n",
       "      <td>wearables</td>\n",
       "    </tr>\n",
       "    <tr>\n",
       "      <th>169762</th>\n",
       "      <td></td>\n",
       "      <td>шагомер пульсометр</td>\n",
       "      <td>быстро разряжаться батарея</td>\n",
       "      <td>russian</td>\n",
       "      <td>3</td>\n",
       "      <td>wearables</td>\n",
       "    </tr>\n",
       "    <tr>\n",
       "      <th>169763</th>\n",
       "      <td></td>\n",
       "      <td>очень хорошые часы братишка понравиться работа...</td>\n",
       "      <td></td>\n",
       "      <td>russian</td>\n",
       "      <td>5</td>\n",
       "      <td>wearables</td>\n",
       "    </tr>\n",
       "    <tr>\n",
       "      <th>169764</th>\n",
       "      <td>классный мама купить</td>\n",
       "      <td></td>\n",
       "      <td></td>\n",
       "      <td>russian</td>\n",
       "      <td>5</td>\n",
       "      <td>wearables</td>\n",
       "    </tr>\n",
       "    <tr>\n",
       "      <th>169765</th>\n",
       "      <td>хороший спортивный браслет не хватать секундом...</td>\n",
       "      <td></td>\n",
       "      <td></td>\n",
       "      <td>russian</td>\n",
       "      <td>4</td>\n",
       "      <td>wearables</td>\n",
       "    </tr>\n",
       "  </tbody>\n",
       "</table>\n",
       "<p>150025 rows × 6 columns</p>\n",
       "</div>"
      ],
      "text/plain": [
       "                                                     text  \\\n",
       "0                                                           \n",
       "1                                    отличный большой фен   \n",
       "2                                                           \n",
       "3                                        отличный машинка   \n",
       "4                                                           \n",
       "...                                                   ...   \n",
       "169761                                                      \n",
       "169762                                                      \n",
       "169763                                                      \n",
       "169764                               классный мама купить   \n",
       "169765  хороший спортивный браслет не хватать секундом...   \n",
       "\n",
       "                                                     plus  \\\n",
       "0             хороший фен свой деньги очень приятный цвет   \n",
       "1                                                   четко   \n",
       "2                                    мощный самый главный   \n",
       "3                                                           \n",
       "4       фен понравиться пользоваться недолго существен...   \n",
       "...                                                   ...   \n",
       "169761           сказать батарея смело держать заряд день   \n",
       "169762                                 шагомер пульсометр   \n",
       "169763  очень хорошые часы братишка понравиться работа...   \n",
       "169764                                                      \n",
       "169765                                                      \n",
       "\n",
       "                             minus language  rating   category  \n",
       "0                                   russian       5     beauty  \n",
       "1                      нет негатив  russian       5     beauty  \n",
       "2                      тонкий шнур  russian       5     beauty  \n",
       "3                                   russian       5     beauty  \n",
       "4                                   russian       4     beauty  \n",
       "...                            ...      ...     ...        ...  \n",
       "169761                              russian       5  wearables  \n",
       "169762  быстро разряжаться батарея  russian       3  wearables  \n",
       "169763                              russian       5  wearables  \n",
       "169764                              russian       5  wearables  \n",
       "169765                              russian       4  wearables  \n",
       "\n",
       "[150025 rows x 6 columns]"
      ]
     },
     "execution_count": 5,
     "metadata": {},
     "output_type": "execute_result"
    }
   ],
   "source": [
    "df"
   ]
  },
  {
   "cell_type": "code",
   "execution_count": 7,
   "metadata": {},
   "outputs": [],
   "source": [
    "STOPWORDS = {'и', 'в', 'во', 'что', 'он', 'на', 'я', 'с', 'со', 'как', 'а', 'то', 'все',\n",
    "             'она', 'так', 'его', 'но', 'да', 'ты', 'к', 'у', 'же', 'вы', 'за', 'бы',\n",
    "             'по', 'только', 'ее', 'мне', 'было', 'вот', 'от', 'меня', 'еще', 'о', 'из',\n",
    "             'ему', 'теперь', 'когда', 'даже', 'ну', 'вдруг', 'ли', 'если', 'уже',\n",
    "             'или', 'быть', 'был', 'него', 'до', 'вас', 'нибудь', 'опять', 'уж',\n",
    "             'вам', 'ведь', 'там', 'потом', 'себя', 'ничего', 'ей', 'может', 'они',\n",
    "             'тут', 'где', 'есть', 'надо', 'ней', 'для', 'мы', 'тебя', 'их', 'чем',\n",
    "             'была', 'сам', 'чтоб', 'без', 'будто', 'чего', 'раз', 'тоже', 'себе',\n",
    "             'под', 'будет', 'ж', 'тогда', 'кто', 'этот', 'того', 'потому', 'этого',\n",
    "             'какой', 'совсем', 'ним', 'здесь', 'этом', 'один', 'почти', 'мой', 'тем',\n",
    "             'чтобы', 'нее', 'сейчас', 'были', 'куда', 'зачем', 'всех', 'никогда',\n",
    "             'можно', 'при', 'наконец', 'два', 'об', 'другой', 'хоть', 'после', 'над',\n",
    "             'больше', 'тот', 'через', 'эти', 'нас', 'про', 'всего', 'них', 'какая',\n",
    "             'много', 'разве', 'три', 'эту', 'моя', 'впрочем', 'хорошо', 'свою', 'этой',\n",
    "             'перед', 'иногда', 'лучше', 'чуть', 'том', 'нельзя', 'такой', 'им',\n",
    "             'более', 'всегда', 'конечно', 'всю', 'между', 'пока', 'это', 'хотя', 'не', 'нет', 'ни'}\n",
    "PUNCTUATION = {'$', '=', '_', '?', ')', '*', '[', '(', '{', \"'\", '\\\\', ',', ':', ';',\n",
    "               '|', '+', '`', '.', '<', '@', '%', '#', '\"', '^', '&', '>', '}', '~',\n",
    "               '/', '!', ']', '-', ' ', }\n"
   ]
  },
  {
   "cell_type": "code",
   "execution_count": 8,
   "metadata": {},
   "outputs": [
    {
     "name": "stdout",
     "output_type": "stream",
     "text": [
      "<class 'pandas.core.frame.DataFrame'>\n",
      "Int64Index: 150025 entries, 0 to 169765\n",
      "Data columns (total 6 columns):\n",
      " #   Column    Non-Null Count   Dtype \n",
      "---  ------    --------------   ----- \n",
      " 0   text      150025 non-null  object\n",
      " 1   plus      150025 non-null  object\n",
      " 2   minus     150025 non-null  object\n",
      " 3   language  150025 non-null  object\n",
      " 4   rating    150025 non-null  int32 \n",
      " 5   category  150025 non-null  object\n",
      "dtypes: int32(1), object(5)\n",
      "memory usage: 7.4+ MB\n"
     ]
    }
   ],
   "source": [
    "df.info()"
   ]
  },
  {
   "cell_type": "code",
   "execution_count": 9,
   "metadata": {},
   "outputs": [
    {
     "data": {
      "text/plain": [
       "count    150025.000000\n",
       "mean          4.676034\n",
       "std           0.844354\n",
       "min           1.000000\n",
       "25%           5.000000\n",
       "50%           5.000000\n",
       "75%           5.000000\n",
       "max           5.000000\n",
       "Name: rating, dtype: float64"
      ]
     },
     "execution_count": 9,
     "metadata": {},
     "output_type": "execute_result"
    }
   ],
   "source": [
    "df.rating.describe()"
   ]
  },
  {
   "cell_type": "code",
   "execution_count": 10,
   "metadata": {},
   "outputs": [
    {
     "data": {
      "text/plain": [
       "array([5, 4, 3, 2, 1])"
      ]
     },
     "execution_count": 10,
     "metadata": {},
     "output_type": "execute_result"
    }
   ],
   "source": [
    "df.rating.unique()"
   ]
  },
  {
   "cell_type": "code",
   "execution_count": 11,
   "metadata": {},
   "outputs": [
    {
     "data": {
      "text/plain": [
       "Counter({5: 123457, 4: 15201, 3: 5046, 2: 1974, 1: 4347})"
      ]
     },
     "execution_count": 11,
     "metadata": {},
     "output_type": "execute_result"
    }
   ],
   "source": [
    "Counter(df.rating)"
   ]
  },
  {
   "cell_type": "markdown",
   "metadata": {},
   "source": [
    "### Documents initialization"
   ]
  },
  {
   "cell_type": "code",
   "execution_count": 12,
   "metadata": {},
   "outputs": [],
   "source": [
    "plus_documents = df[df.language == 'russian'].plus\n",
    "minus_documents = df[df.language == 'russian'].minus\n",
    "text_documents = df[df.language == 'russian'].text"
   ]
  },
  {
   "cell_type": "code",
   "execution_count": 13,
   "metadata": {},
   "outputs": [],
   "source": [
    "kaz_plus_documents = df[df.language == 'kazakh'].plus\n",
    "kaz_minus_documents = df[df.language == 'kazakh'].minus\n",
    "kaz_text_documents = df[df.language == 'kazakh'].text"
   ]
  },
  {
   "cell_type": "markdown",
   "metadata": {},
   "source": [
    "## Words Counter"
   ]
  },
  {
   "cell_type": "code",
   "execution_count": 14,
   "metadata": {},
   "outputs": [],
   "source": [
    "def document_counter(document):\n",
    "    counter = Counter()\n",
    "    for review in document:\n",
    "        for word in review.split():\n",
    "            if word in STOPWORDS:\n",
    "                continue\n",
    "            counter[word] = counter.get(word, 0) + 1\n",
    "            \n",
    "    return counter"
   ]
  },
  {
   "cell_type": "code",
   "execution_count": 15,
   "metadata": {},
   "outputs": [],
   "source": [
    "plus_counts = document_counter(plus_documents)\n",
    "minus_counts = document_counter(minus_documents)\n",
    "text_counts = document_counter(text_documents)"
   ]
  },
  {
   "cell_type": "code",
   "execution_count": 16,
   "metadata": {},
   "outputs": [],
   "source": [
    "kaz_plus_counts = document_counter(kaz_plus_documents)\n",
    "kaz_minus_counts = document_counter(kaz_minus_documents)\n",
    "kaz_text_counts = document_counter(kaz_text_documents)"
   ]
  },
  {
   "cell_type": "markdown",
   "metadata": {},
   "source": [
    "## Bigrams Counter"
   ]
  },
  {
   "cell_type": "code",
   "execution_count": 17,
   "metadata": {},
   "outputs": [],
   "source": [
    "def bigram_counter(documents):\n",
    "    bigram_counter = Counter()\n",
    "    \n",
    "    for review in documents:\n",
    "        words = review.split()\n",
    "        for i, word in enumerate(words):\n",
    "            if i == 0:\n",
    "                continue\n",
    "                \n",
    "            bigram = f\"{words[i-1]} {word}\"\n",
    "            bigram_counter[bigram] = bigram_counter.get(bigram, 0) + 1\n",
    "    \n",
    "    return bigram_counter"
   ]
  },
  {
   "cell_type": "code",
   "execution_count": 18,
   "metadata": {},
   "outputs": [],
   "source": [
    "plus_bigrams = bigram_counter(plus_documents)\n",
    "minus_bigrams = bigram_counter(minus_documents)\n",
    "text_bigrams = bigram_counter(text_documents)"
   ]
  },
  {
   "cell_type": "code",
   "execution_count": 19,
   "metadata": {},
   "outputs": [],
   "source": [
    "kaz_plus_bigrams = bigram_counter(kaz_plus_documents)\n",
    "kaz_minus_bigrams = bigram_counter(kaz_minus_documents)\n",
    "kaz_text_bigrams = bigram_counter(kaz_text_documents)"
   ]
  },
  {
   "cell_type": "markdown",
   "metadata": {},
   "source": [
    "## Visualization"
   ]
  },
  {
   "cell_type": "markdown",
   "metadata": {},
   "source": [
    "### Positive Comments"
   ]
  },
  {
   "cell_type": "code",
   "execution_count": 68,
   "metadata": {},
   "outputs": [],
   "source": [
    "bigrams, counts = map(list, zip(*plus_bigrams.most_common(8)))"
   ]
  },
  {
   "cell_type": "code",
   "execution_count": 69,
   "metadata": {},
   "outputs": [
    {
     "data": {
      "text/plain": [
       "[Text(0, 0, 'очень понравиться'),\n",
       " Text(0, 0, 'очень хороший'),\n",
       " Text(0, 0, 'очень удобный'),\n",
       " Text(0, 0, 'очень довольный'),\n",
       " Text(0, 0, 'цена качество'),\n",
       " Text(0, 0, 'спасибо каспи'),\n",
       " Text(0, 0, 'хороший телефон'),\n",
       " Text(0, 0, 'свой деньги')]"
      ]
     },
     "execution_count": 69,
     "metadata": {},
     "output_type": "execute_result"
    },
    {
     "data": {
      "image/png": "[encoded data removed]",
      "text/plain": [
       "<Figure size 432x288 with 1 Axes>"
      ]
     },
     "metadata": {},
     "output_type": "display_data"
    }
   ],
   "source": [
    "top_words = sns.barplot(x=bigrams, y=counts)\n",
    "top_words.set_xticklabels(bigrams, rotation=30)"
   ]
  },
  {
   "cell_type": "markdown",
   "metadata": {},
   "source": [
    "### Negative Comments"
   ]
  },
  {
   "cell_type": "code",
   "execution_count": 22,
   "metadata": {},
   "outputs": [],
   "source": [
    "bigrams, counts = map(list, zip(*minus_bigrams.most_common(8)))"
   ]
  },
  {
   "cell_type": "code",
   "execution_count": 23,
   "metadata": {},
   "outputs": [
    {
     "data": {
      "text/plain": [
       "[Text(0, 0, 'не понравиться'),\n",
       " Text(0, 0, 'не очень'),\n",
       " Text(0, 0, 'не обнаруживать'),\n",
       " Text(0, 0, 'минус нет'),\n",
       " Text(0, 0, 'не находить'),\n",
       " Text(0, 0, 'недостаток не'),\n",
       " Text(0, 0, 'минус не'),\n",
       " Text(0, 0, 'не замечать')]"
      ]
     },
     "execution_count": 23,
     "metadata": {},
     "output_type": "execute_result"
    },
    {
     "data": {
      "image/png": "[encoded data removed]",
      "text/plain": [
       "<Figure size 432x288 with 1 Axes>"
      ]
     },
     "metadata": {},
     "output_type": "display_data"
    }
   ],
   "source": [
    "top_words = sns.barplot(x=bigrams, y=counts)\n",
    "top_words.set_xticklabels(bigrams, rotation=30)"
   ]
  },
  {
   "cell_type": "markdown",
   "metadata": {},
   "source": [
    "### Comments"
   ]
  },
  {
   "cell_type": "code",
   "execution_count": 65,
   "metadata": {},
   "outputs": [],
   "source": [
    "bigrams, counts = map(list, zip(*text_bigrams.most_common(8)))"
   ]
  },
  {
   "cell_type": "code",
   "execution_count": 66,
   "metadata": {},
   "outputs": [
    {
     "data": {
      "text/plain": [
       "[Text(0, 0, 'спасибо каспи'),\n",
       " Text(0, 0, 'очень понравиться'),\n",
       " Text(0, 0, 'очень хороший'),\n",
       " Text(0, 0, 'очень довольный'),\n",
       " Text(0, 0, 'не пожалеть'),\n",
       " Text(0, 0, 'свой деньги'),\n",
       " Text(0, 0, 'каспи магазин'),\n",
       " Text(0, 0, 'хороший телефон')]"
      ]
     },
     "execution_count": 66,
     "metadata": {},
     "output_type": "execute_result"
    },
    {
     "data": {
      "image/png": "[encoded data removed]",
      "text/plain": [
       "<Figure size 432x288 with 1 Axes>"
      ]
     },
     "metadata": {},
     "output_type": "display_data"
    }
   ],
   "source": [
    "top_words = sns.barplot(x=bigrams, y=counts)\n",
    "top_words.set_xticklabels(bigrams, rotation=30)"
   ]
  },
  {
   "cell_type": "markdown",
   "metadata": {},
   "source": [
    "### Ratings"
   ]
  },
  {
   "cell_type": "code",
   "execution_count": 51,
   "metadata": {},
   "outputs": [],
   "source": [
    "ratings, counts = map(list, zip(*Counter(df.rating).items()))"
   ]
  },
  {
   "cell_type": "code",
   "execution_count": 52,
   "metadata": {},
   "outputs": [
    {
     "data": {
      "text/plain": [
       "<matplotlib.axes._subplots.AxesSubplot at 0x27142024208>"
      ]
     },
     "execution_count": 52,
     "metadata": {},
     "output_type": "execute_result"
    },
    {
     "data": {
      "image/png": "[encoded data removed]",
      "text/plain": [
       "<Figure size 432x288 with 1 Axes>"
      ]
     },
     "metadata": {},
     "output_type": "display_data"
    }
   ],
   "source": [
    "sns.barplot(x=ratings, y=counts)"
   ]
  },
  {
   "cell_type": "markdown",
   "metadata": {},
   "source": [
    "### Ratings without 5"
   ]
  },
  {
   "cell_type": "code",
   "execution_count": 64,
   "metadata": {},
   "outputs": [
    {
     "data": {
      "text/plain": [
       "<matplotlib.axes._subplots.AxesSubplot at 0x27142700cc8>"
      ]
     },
     "execution_count": 64,
     "metadata": {},
     "output_type": "execute_result"
    },
    {
     "data": {
      "image/png": "[encoded data removed]",
      "text/plain": [
       "<Figure size 432x288 with 1 Axes>"
      ]
     },
     "metadata": {},
     "output_type": "display_data"
    }
   ],
   "source": [
    "sns.barplot(x=ratings[1:], y=counts[1:])"
   ]
  },
  {
   "cell_type": "code",
   "execution_count": 61,
   "metadata": {},
   "outputs": [],
   "source": []
  },
  {
   "cell_type": "code",
   "execution_count": null,
   "metadata": {},
   "outputs": [],
   "source": []
  }
 ],
 "metadata": {
  "kernelspec": {
   "display_name": "Python 3",
   "language": "python",
   "name": "python3"
  },
  "language_info": {
   "codemirror_mode": {
    "name": "ipython",
    "version": 3
   },
   "file_extension": ".py",
   "mimetype": "text/x-python",
   "name": "python",
   "nbconvert_exporter": "python",
   "pygments_lexer": "ipython3",
   "version": "3.7.6"
  }
 },
 "nbformat": 4,
 "nbformat_minor": 4
}
