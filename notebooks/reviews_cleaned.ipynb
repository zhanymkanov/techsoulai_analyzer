{
 "cells": [
  {
   "cell_type": "code",
   "execution_count": 29,
   "metadata": {},
   "outputs": [],
   "source": [
    "import numpy as np\n",
    "import pandas as pd\n",
    "import matplotlib.pyplot as plt\n",
    "import seaborn as sns\n",
    "%matplotlib inline\n",
    "sns.set(color_codes=True)"
   ]
  },
  {
   "cell_type": "code",
   "execution_count": 30,
   "metadata": {},
   "outputs": [],
   "source": [
    "df = pd.read_csv(\"../data/reviews_cleaned.csv\", usecols=[2,3,4,5])\n",
    "df.drop_duplicates(inplace=True)\n",
    "df.rating = df.rating.astype(float)"
   ]
  },
  {
   "cell_type": "code",
   "execution_count": 31,
   "metadata": {},
   "outputs": [
    {
     "data": {
      "text/html": [
       "<div>\n",
       "<style scoped>\n",
       "    .dataframe tbody tr th:only-of-type {\n",
       "        vertical-align: middle;\n",
       "    }\n",
       "\n",
       "    .dataframe tbody tr th {\n",
       "        vertical-align: top;\n",
       "    }\n",
       "\n",
       "    .dataframe thead th {\n",
       "        text-align: right;\n",
       "    }\n",
       "</style>\n",
       "<table border=\"1\" class=\"dataframe\">\n",
       "  <thead>\n",
       "    <tr style=\"text-align: right;\">\n",
       "      <th></th>\n",
       "      <th>language</th>\n",
       "      <th>rating</th>\n",
       "      <th>category</th>\n",
       "      <th>combined_text</th>\n",
       "    </tr>\n",
       "  </thead>\n",
       "  <tbody>\n",
       "    <tr>\n",
       "      <th>0</th>\n",
       "      <td>russian</td>\n",
       "      <td>5.0</td>\n",
       "      <td>beauty</td>\n",
       "      <td>хороший фен свой деньги . очень приятный цвет .</td>\n",
       "    </tr>\n",
       "    <tr>\n",
       "      <th>1</th>\n",
       "      <td>russian</td>\n",
       "      <td>5.0</td>\n",
       "      <td>beauty</td>\n",
       "      <td>отличный большой фен ! четко ! нет негатив !</td>\n",
       "    </tr>\n",
       "    <tr>\n",
       "      <th>2</th>\n",
       "      <td>russian</td>\n",
       "      <td>5.0</td>\n",
       "      <td>beauty</td>\n",
       "      <td>мощный ,  самый главный . тонкий шнур .</td>\n",
       "    </tr>\n",
       "    <tr>\n",
       "      <th>3</th>\n",
       "      <td>russian</td>\n",
       "      <td>5.0</td>\n",
       "      <td>beauty</td>\n",
       "      <td>отличный машинка .</td>\n",
       "    </tr>\n",
       "    <tr>\n",
       "      <th>4</th>\n",
       "      <td>russian</td>\n",
       "      <td>5.0</td>\n",
       "      <td>beauty</td>\n",
       "      <td>точно ,  описание . очень простой использовани...</td>\n",
       "    </tr>\n",
       "    <tr>\n",
       "      <th>...</th>\n",
       "      <td>...</td>\n",
       "      <td>...</td>\n",
       "      <td>...</td>\n",
       "      <td>...</td>\n",
       "    </tr>\n",
       "    <tr>\n",
       "      <th>169761</th>\n",
       "      <td>russian</td>\n",
       "      <td>3.0</td>\n",
       "      <td>wearables</td>\n",
       "      <td>браслет не такой ,  все )  цена ,  мало функци...</td>\n",
       "    </tr>\n",
       "    <tr>\n",
       "      <th>169762</th>\n",
       "      <td>russian</td>\n",
       "      <td>5.0</td>\n",
       "      <td>wearables</td>\n",
       "      <td>классный ,  надежный девайс</td>\n",
       "    </tr>\n",
       "    <tr>\n",
       "      <th>169763</th>\n",
       "      <td>russian</td>\n",
       "      <td>5.0</td>\n",
       "      <td>wearables</td>\n",
       "      <td>браслет очень понравиться . функция много . мо...</td>\n",
       "    </tr>\n",
       "    <tr>\n",
       "      <th>169764</th>\n",
       "      <td>russian</td>\n",
       "      <td>5.0</td>\n",
       "      <td>wearables</td>\n",
       "      <td>хорошо ,  быстро доставлять</td>\n",
       "    </tr>\n",
       "    <tr>\n",
       "      <th>169765</th>\n",
       "      <td>russian</td>\n",
       "      <td>4.0</td>\n",
       "      <td>wearables</td>\n",
       "      <td>нормальный часы качество хороший ,  удобный , ...</td>\n",
       "    </tr>\n",
       "  </tbody>\n",
       "</table>\n",
       "<p>152448 rows × 4 columns</p>\n",
       "</div>"
      ],
      "text/plain": [
       "       language  rating   category  \\\n",
       "0       russian     5.0     beauty   \n",
       "1       russian     5.0     beauty   \n",
       "2       russian     5.0     beauty   \n",
       "3       russian     5.0     beauty   \n",
       "4       russian     5.0     beauty   \n",
       "...         ...     ...        ...   \n",
       "169761  russian     3.0  wearables   \n",
       "169762  russian     5.0  wearables   \n",
       "169763  russian     5.0  wearables   \n",
       "169764  russian     5.0  wearables   \n",
       "169765  russian     4.0  wearables   \n",
       "\n",
       "                                            combined_text  \n",
       "0         хороший фен свой деньги . очень приятный цвет .  \n",
       "1            отличный большой фен ! четко ! нет негатив !  \n",
       "2                 мощный ,  самый главный . тонкий шнур .  \n",
       "3                                      отличный машинка .  \n",
       "4       точно ,  описание . очень простой использовани...  \n",
       "...                                                   ...  \n",
       "169761  браслет не такой ,  все )  цена ,  мало функци...  \n",
       "169762                        классный ,  надежный девайс  \n",
       "169763  браслет очень понравиться . функция много . мо...  \n",
       "169764                        хорошо ,  быстро доставлять  \n",
       "169765  нормальный часы качество хороший ,  удобный , ...  \n",
       "\n",
       "[152448 rows x 4 columns]"
      ]
     },
     "execution_count": 31,
     "metadata": {},
     "output_type": "execute_result"
    }
   ],
   "source": [
    "df"
   ]
  },
  {
   "cell_type": "code",
   "execution_count": 32,
   "metadata": {},
   "outputs": [
    {
     "name": "stdout",
     "output_type": "stream",
     "text": [
      "<class 'pandas.core.frame.DataFrame'>\n",
      "Int64Index: 152448 entries, 0 to 169765\n",
      "Data columns (total 4 columns):\n",
      " #   Column         Non-Null Count   Dtype  \n",
      "---  ------         --------------   -----  \n",
      " 0   language       152446 non-null  object \n",
      " 1   rating         152445 non-null  float64\n",
      " 2   category       152445 non-null  object \n",
      " 3   combined_text  152405 non-null  object \n",
      "dtypes: float64(1), object(3)\n",
      "memory usage: 5.8+ MB\n"
     ]
    }
   ],
   "source": [
    "df.info()"
   ]
  },
  {
   "cell_type": "code",
   "execution_count": 33,
   "metadata": {},
   "outputs": [
    {
     "data": {
      "text/plain": [
       "count    152445.000000\n",
       "mean          4.680547\n",
       "std           0.839342\n",
       "min           1.000000\n",
       "25%           5.000000\n",
       "50%           5.000000\n",
       "75%           5.000000\n",
       "max           5.000000\n",
       "Name: rating, dtype: float64"
      ]
     },
     "execution_count": 33,
     "metadata": {},
     "output_type": "execute_result"
    }
   ],
   "source": [
    "df.rating.describe()"
   ]
  },
  {
   "cell_type": "code",
   "execution_count": 34,
   "metadata": {},
   "outputs": [
    {
     "data": {
      "text/plain": [
       "array([ 5.,  3.,  4.,  2.,  1., nan])"
      ]
     },
     "execution_count": 34,
     "metadata": {},
     "output_type": "execute_result"
    }
   ],
   "source": [
    "df.rating.unique()"
   ]
  },
  {
   "cell_type": "code",
   "execution_count": 35,
   "metadata": {},
   "outputs": [],
   "source": [
    "documents = df.combined_text.dropna().values"
   ]
  },
  {
   "cell_type": "code",
   "execution_count": 36,
   "metadata": {},
   "outputs": [],
   "source": [
    "PUNCTUATION = {\n",
    "    \"$\",\n",
    "    \"=\",\n",
    "    \"_\",\n",
    "    \"?\",\n",
    "    \")\",\n",
    "    \"*\",\n",
    "    \"[\",\n",
    "    \"(\",\n",
    "    \"{\",\n",
    "    \"'\",\n",
    "    \"\\\\\",\n",
    "    \",\",\n",
    "    \":\",\n",
    "    \";\",\n",
    "    \"|\",\n",
    "    \"+\",\n",
    "    \"`\",\n",
    "    \".\",\n",
    "    \"<\",\n",
    "    \"@\",\n",
    "    \"%\",\n",
    "    \"#\",\n",
    "    '\"',\n",
    "    \"^\",\n",
    "    \"&\",\n",
    "    \">\",\n",
    "    \"}\",\n",
    "    \"~\",\n",
    "    \"/\",\n",
    "    \"!\",\n",
    "    \"]\",\n",
    "    \"-\",\n",
    "    \" \",\n",
    "    \"\",\n",
    "}"
   ]
  },
  {
   "cell_type": "code",
   "execution_count": 37,
   "metadata": {},
   "outputs": [],
   "source": [
    "bag_of_words = {}"
   ]
  },
  {
   "cell_type": "code",
   "execution_count": 38,
   "metadata": {},
   "outputs": [],
   "source": [
    "for review in documents:\n",
    "    \n",
    "    words = review.split()\n",
    "    for word in words:\n",
    "        if not word.isalpha():\n",
    "            continue\n",
    "\n",
    "        bag_of_words[word] = bag_of_words.get(word, 0) + 1\n",
    "        "
   ]
  },
  {
   "cell_type": "code",
   "execution_count": 39,
   "metadata": {},
   "outputs": [],
   "source": [
    "sorted_1grams = sorted(bag_of_words.items(), key=lambda x: -x[1])"
   ]
  },
  {
   "cell_type": "code",
   "execution_count": 40,
   "metadata": {},
   "outputs": [],
   "source": [
    "bag_of_2grams = {}"
   ]
  },
  {
   "cell_type": "code",
   "execution_count": 41,
   "metadata": {},
   "outputs": [],
   "source": [
    "for review in documents:\n",
    "    words = review.split()\n",
    "    res = []\n",
    "    for word in words:\n",
    "        if not word.isalpha() or word in PUNCTUATION:\n",
    "            continue\n",
    "        res.append(word)\n",
    "        \n",
    "    for i, word in enumerate(res):\n",
    "        if i == 0:\n",
    "            continue\n",
    "            \n",
    "        bigram = f\"{res[i-1]} {word}\"\n",
    "        bag_of_2grams[bigram] = bag_of_2grams.get(bigram, 0) + 1"
   ]
  },
  {
   "cell_type": "code",
   "execution_count": 42,
   "metadata": {},
   "outputs": [],
   "source": [
    "sorted_2grams = sorted(bag_of_2grams.items(), key=lambda x: -x[1])"
   ]
  },
  {
   "cell_type": "code",
   "execution_count": 72,
   "metadata": {},
   "outputs": [],
   "source": [
    "top_5_pairs = list(dict(sorted_2grams).keys())[:8]\n",
    "top_5_pairs_count = list(dict(sorted_2grams).values())[:8]"
   ]
  },
  {
   "cell_type": "code",
   "execution_count": 73,
   "metadata": {},
   "outputs": [
    {
     "data": {
      "text/plain": [
       "[Text(0, 0, 'очень понравиться'),\n",
       " Text(0, 0, 'очень хороший'),\n",
       " Text(0, 0, 'очень удобный'),\n",
       " Text(0, 0, 'спасибо каспи'),\n",
       " Text(0, 0, 'очень довольный'),\n",
       " Text(0, 0, 'свой деньги'),\n",
       " Text(0, 0, 'цена качество'),\n",
       " Text(0, 0, 'хороший телефон')]"
      ]
     },
     "execution_count": 73,
     "metadata": {},
     "output_type": "execute_result"
    },
    {
     "data": {
      "image/png": "[encoded data removed]",
      "text/plain": [
       "<Figure size 432x288 with 1 Axes>"
      ]
     },
     "metadata": {},
     "output_type": "display_data"
    }
   ],
   "source": [
    "top_words = sns.barplot(x=top_5_pairs, y=top_5_pairs_count)\n",
    "top_words.set_xticklabels(top_5_pairs, rotation=30)"
   ]
  },
  {
   "cell_type": "code",
   "execution_count": 57,
   "metadata": {},
   "outputs": [],
   "source": [
    "bag_of_neg_2grams = {}"
   ]
  },
  {
   "cell_type": "code",
   "execution_count": 58,
   "metadata": {},
   "outputs": [],
   "source": [
    "neg_documents = df[df.rating <= 3].combined_text.dropna().values"
   ]
  },
  {
   "cell_type": "code",
   "execution_count": 61,
   "metadata": {},
   "outputs": [],
   "source": [
    "for review in neg_documents:\n",
    "    words = review.split()\n",
    "    res = []\n",
    "    for word in words:\n",
    "        if not word.isalpha() or word in PUNCTUATION:\n",
    "            continue\n",
    "        res.append(word)\n",
    "        \n",
    "    for i, word in enumerate(res):\n",
    "        if i == 0:\n",
    "            continue\n",
    "            \n",
    "        bigram = f\"{res[i-1]} {word}\"\n",
    "        bag_of_neg_2grams[bigram] = bag_of_neg_2grams.get(bigram, 0) + 1"
   ]
  },
  {
   "cell_type": "code",
   "execution_count": 63,
   "metadata": {},
   "outputs": [],
   "source": [
    "sorted_neg_2grams = sorted(bag_of_neg_2grams.items(), key=lambda x: -x[1])"
   ]
  },
  {
   "cell_type": "code",
   "execution_count": 70,
   "metadata": {},
   "outputs": [],
   "source": [
    "neg_top_5_pairs = list(dict(sorted_neg_2grams).keys())[:8]\n",
    "neg_top_5_pairs_count = list(dict(sorted_neg_2grams).values())[:8]"
   ]
  },
  {
   "cell_type": "code",
   "execution_count": 71,
   "metadata": {},
   "outputs": [
    {
     "data": {
      "text/plain": [
       "[Text(0, 0, 'не понравиться'),\n",
       " Text(0, 0, 'не очень'),\n",
       " Text(0, 0, 'не советовать'),\n",
       " Text(0, 0, 'не стоить'),\n",
       " Text(0, 0, 'не работать'),\n",
       " Text(0, 0, 'вообще не'),\n",
       " Text(0, 0, 'не рекомендовать'),\n",
       " Text(0, 0, 'не мочь')]"
      ]
     },
     "execution_count": 71,
     "metadata": {},
     "output_type": "execute_result"
    },
    {
     "data": {
      "image/png": "[encoded data removed]",
      "text/plain": [
       "<Figure size 432x288 with 1 Axes>"
      ]
     },
     "metadata": {},
     "output_type": "display_data"
    }
   ],
   "source": [
    "top_neg_words = sns.barplot(x=neg_top_5_pairs, y=neg_top_5_pairs_count)\n",
    "top_neg_words.set_xticklabels(neg_top_5_pairs, rotation=30)"
   ]
  },
  {
   "cell_type": "code",
   "execution_count": null,
   "metadata": {},
   "outputs": [],
   "source": []
  }
 ],
 "metadata": {
  "kernelspec": {
   "display_name": "Python 3",
   "language": "python",
   "name": "python3"
  },
  "language_info": {
   "codemirror_mode": {
    "name": "ipython",
    "version": 3
   },
   "file_extension": ".py",
   "mimetype": "text/x-python",
   "name": "python",
   "nbconvert_exporter": "python",
   "pygments_lexer": "ipython3",
   "version": "3.7.6"
  }
 },
 "nbformat": 4,
 "nbformat_minor": 4
}
